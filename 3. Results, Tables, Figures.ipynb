{
 "cells": [
  {
   "cell_type": "code",
   "execution_count": null,
   "id": "0cb4eae2",
   "metadata": {},
   "outputs": [],
   "source": [
    "# Import necessary libraries\n",
    "import pandas as pd\n",
    "from count_ppis_by_pat_nights import count_ppis_by_pat_nights\n",
    "import matplotlib.pyplot as plt\n",
    "import pickle\n",
    "from collections import Counter"
   ]
  },
  {
   "cell_type": "code",
   "execution_count": null,
   "id": "26962540",
   "metadata": {},
   "outputs": [],
   "source": [
    "# Load dataframe\n",
    "with open('luso_epcount.pkl', 'rb') as f:\n",
    "    luso_epcount = pickle.load(f)\n",
    "    \n",
    "# Load CSVs\n",
    "ppi_df = pd.read_csv('ppi_df.csv')\n",
    "ppi_count_df = pd.read_csv('ppi_count_df.csv')\n",
    "off_unit_df = pd.read_csv('off_unit_interruptions.csv')\n",
    "pat_nights = pd.read_csv('patient_night_population.csv')\n",
    "episode_durations = pd.read_csv('episode_durations.csv')\n",
    "admission_details = pd.read_csv('admission_details.csv')"
   ]
  },
  {
   "cell_type": "code",
   "execution_count": null,
   "id": "4f30882c",
   "metadata": {},
   "outputs": [],
   "source": [
    "# Create unique index for each patient night\n",
    "pat_nights.reset_index(inplace=True)\n",
    "pat_nights.rename(columns={'index': 'pat_night_index'}, inplace=True)"
   ]
  },
  {
   "cell_type": "code",
   "execution_count": null,
   "id": "300369f0",
   "metadata": {},
   "outputs": [],
   "source": [
    "# Split full PPI df by PPI type\n",
    "neuros_df = ppi_df[ppi_df['PPI_TYPE']=='Neuros']\n",
    "meds_df = ppi_df[ppi_df['PPI_TYPE']=='Meds']\n",
    "labs_df = ppi_df[ppi_df['PPI_TYPE']=='Labs & Imaging']\n",
    "vitals_df = ppi_df[ppi_df['PPI_TYPE']=='Vitals']\n",
    "on_unit_df = ppi_df[ppi_df['PPI_TYPE']=='On Unit']\n",
    "off_unit_df = off_unit_df[['PAT_ENC_CSN_ID', 'START_TIME', 'END_TIME']]\n",
    "off_unit_df['PPI_TYPE'] = 'Off Unit'\n",
    "\n",
    "dataframes = [vitals_df, neuros_df, meds_df, labs_df, off_unit_df, on_unit_df]\n",
    "\n",
    "for df in dataframes:\n",
    "    df['START_TIME'] = pd.to_datetime(df['START_TIME'])\n",
    "    df['END_TIME'] = pd.to_datetime(df['END_TIME'])\n",
    "\n",
    "# Count PPIs by pat nights for each dataframe\n",
    "counts = {}\n",
    "for df, df_name in zip([vitals_df, neuros_df, meds_df, labs_df, off_unit_df, on_unit_df], ['vitals', 'neuros', 'meds', 'labs', 'off_units', 'on_units']):\n",
    "    counts[df_name] = count_ppis_by_pat_nights(pat_nights, df)\n",
    "counts"
   ]
  },
  {
   "cell_type": "code",
   "execution_count": null,
   "id": "5161f31b",
   "metadata": {},
   "outputs": [],
   "source": [
    "# Rename columns in each count dataframe\n",
    "for df_name, count_df in counts.items():\n",
    "    count_df.rename(columns={'COUNT': f'{df_name.upper()}_COUNT'}, inplace=True)\n",
    "    \n",
    "vitals_df = counts['vitals']\n",
    "neuros_df = counts['neuros']\n",
    "meds_df = counts['meds']\n",
    "labs_df = counts['labs']\n",
    "off_unit_df = counts['off_units']\n",
    "on_unit_df = counts['on_units']"
   ]
  },
  {
   "cell_type": "code",
   "execution_count": null,
   "id": "2a3a2815",
   "metadata": {},
   "outputs": [],
   "source": [
    "merge1 = pd.merge(vitals_df, neuros_df,  on=['pat_night_index', 'PAT_ENC_CSN_ID','NIGHT_START','NIGHT_END'])\n",
    "merge2 = pd.merge(merge1, labs_df,  on=['pat_night_index', 'PAT_ENC_CSN_ID','NIGHT_START','NIGHT_END'])\n",
    "merge3 = pd.merge(merge2, meds_df,  on=['pat_night_index', 'PAT_ENC_CSN_ID','NIGHT_START','NIGHT_END'])\n",
    "merge4 = pd.merge(merge3, on_unit_df,  on=['pat_night_index', 'PAT_ENC_CSN_ID','NIGHT_START','NIGHT_END'])\n",
    "all_ppis = pd.merge(merge4, off_unit_df,  on=['pat_night_index', 'PAT_ENC_CSN_ID','NIGHT_START','NIGHT_END'])\n",
    "\n",
    "all_ppis = all_ppis[['PAT_ENC_CSN_ID', 'NIGHT_START', 'NIGHT_END', 'VITALS_COUNT', \n",
    "                      'NEUROS_COUNT', 'LABS_COUNT', 'MEDS_COUNT', 'ON_UNITS_COUNT', 'OFF_UNITS_COUNT']]\n",
    "all_ppis"
   ]
  },
  {
   "cell_type": "code",
   "execution_count": null,
   "id": "2651ee3b",
   "metadata": {},
   "outputs": [],
   "source": [
    "all_ppis.describe()"
   ]
  },
  {
   "cell_type": "markdown",
   "id": "84e1ac96",
   "metadata": {},
   "source": [
    "### Table 1: Demographics of patients in the study"
   ]
  },
  {
   "cell_type": "code",
   "execution_count": null,
   "id": "d47df482",
   "metadata": {},
   "outputs": [],
   "source": [
    "admission_details['PAT_ENC_CSN_ID'].nunique()"
   ]
  },
  {
   "cell_type": "code",
   "execution_count": null,
   "id": "95e04e70",
   "metadata": {},
   "outputs": [],
   "source": [
    "unique_pat_encs = pat_nights['PAT_ENC_CSN_ID'].unique().tolist()\n",
    "len(unique_pat_encs)"
   ]
  },
  {
   "cell_type": "code",
   "execution_count": null,
   "id": "eac39cfd",
   "metadata": {},
   "outputs": [],
   "source": [
    "demographics_df = admission_details[admission_details['PAT_ENC_CSN_ID'].isin(unique_pat_encs)]\n",
    "demographics_df = demographics_df.drop_duplicates(subset=['PAT_ENC_CSN_ID'])\n",
    "demographics_df['PAT_ENC_CSN_ID'].value_counts()"
   ]
  },
  {
   "cell_type": "code",
   "execution_count": null,
   "id": "e96e270d",
   "metadata": {},
   "outputs": [],
   "source": [
    "demographics_df['PAT_ID'].nunique()"
   ]
  },
  {
   "cell_type": "code",
   "execution_count": null,
   "id": "b1e73756",
   "metadata": {},
   "outputs": [],
   "source": [
    "demographics_df = demographics_df.drop_duplicates(subset=['PAT_ID'])\n",
    "\n",
    "# Custom age ranges\n",
    "bins = [0, 50, 60, 70, 80, float('inf')]\n",
    "labels = ['<50', '50-59', '60-69', '70-79', '80+']\n",
    "demographics_df['AGE_RANGE'] = pd.cut(demographics_df['PATIENT_AGE_YEARS'], bins=bins, labels=labels, right=False)\n",
    "demographics_df"
   ]
  },
  {
   "cell_type": "code",
   "execution_count": null,
   "id": "21ffbfb1",
   "metadata": {},
   "outputs": [],
   "source": [
    "# Get count and percentage of each gender in population\n",
    "values = demographics_df['GENDER'].value_counts()\n",
    "percents= demographics_df['GENDER'].value_counts(normalize=True) \n",
    "values,percents"
   ]
  },
  {
   "cell_type": "code",
   "execution_count": null,
   "id": "7095befd",
   "metadata": {},
   "outputs": [],
   "source": [
    "# Get count and percentage of each race in population\n",
    "values = demographics_df['PATIENT_RACE'].value_counts()\n",
    "percents= demographics_df['PATIENT_RACE'].value_counts(normalize=True) \n",
    "values,percents"
   ]
  },
  {
   "cell_type": "code",
   "execution_count": null,
   "id": "d0a54138",
   "metadata": {},
   "outputs": [],
   "source": [
    "# Get count and percentage of each age group in population\n",
    "values = demographics_df['AGE_RANGE'].value_counts()\n",
    "percents= demographics_df['AGE_RANGE'].value_counts(normalize=True) \n",
    "values,percents"
   ]
  },
  {
   "cell_type": "code",
   "execution_count": null,
   "id": "701284c9",
   "metadata": {},
   "outputs": [],
   "source": [
    "demographics_df['HOSP_DISCH_TIME'] = pd.to_datetime(demographics_df['HOSP_DISCH_TIME'])\n",
    "demographics_df['HOSP_ADMSN_TIME'] = pd.to_datetime(demographics_df['HOSP_ADMSN_TIME'])\n",
    "demographics_df['ADMISSION_LENGTH'] = demographics_df['HOSP_DISCH_TIME'] - demographics_df['HOSP_ADMSN_TIME']\n",
    "demographics_df['ADMISSION_LENGTH'] = demographics_df['ADMISSION_LENGTH'].astype(str)\n",
    "demographics_df['Days'] = demographics_df['ADMISSION_LENGTH'].str.split().str[0].astype(int)\n",
    "\n",
    "# Creating day ranges\n",
    "bins = [0, 5, 10, 15, 20, float('inf')]\n",
    "labels = ['0-4', '5-9', '10-14', '15-19', '20+']\n",
    "demographics_df['Day_Ranges'] = pd.cut(demographics_df['Days'], bins=bins, labels=labels, right=False)\n",
    "\n",
    " # Get count and percentage of each admission length range\n",
    "demographics_df\n",
    "values = demographics_df['Day_Ranges'].value_counts()\n",
    "percents= demographics_df['Day_Ranges'].value_counts(normalize=True) \n",
    "values,percents"
   ]
  },
  {
   "cell_type": "code",
   "execution_count": null,
   "id": "f4aa293d",
   "metadata": {},
   "outputs": [],
   "source": [
    "# Get count and percentage of nights on the unit\n",
    "values = demographics_df['NIGHTS_ON_51600'].value_counts()\n",
    "percents= demographics_df['NIGHTS_ON_51600'].value_counts(normalize=True) \n",
    "values,percents"
   ]
  },
  {
   "cell_type": "code",
   "execution_count": null,
   "id": "816876d8",
   "metadata": {},
   "outputs": [],
   "source": [
    "counts = pat_nights['PAT_ENC_CSN_ID'].value_counts()\n",
    "counts_summary = counts.value_counts().sort_index().reset_index()\n",
    "counts_summary.columns = ['Count', 'Frequency']\n",
    "\n",
    "# Calculate percentages\n",
    "total_values = (pat_nights['PAT_ENC_CSN_ID']).nunique()\n",
    "percentages = counts_summary['Frequency'] / total_values * 100\n",
    "\n",
    "# Get count and percentage of nights on unit\n",
    "summary = pd.DataFrame({ 'Nights on 51600': counts_summary['Count'], 'Frequency': counts_summary['Frequency'], 'Percentage': percentages})\n",
    "summary"
   ]
  },
  {
   "cell_type": "code",
   "execution_count": null,
   "id": "5feeefd3",
   "metadata": {},
   "outputs": [],
   "source": [
    "# Get count and percentage of admission diagnoses\n",
    "values = demographics_df['ADMISSION_DX_NAME'].value_counts()\n",
    "percents= demographics_df['ADMISSION_DX_NAME'].value_counts(normalize=True) \n",
    "values,percents"
   ]
  },
  {
   "cell_type": "markdown",
   "id": "6797e6a0",
   "metadata": {},
   "source": [
    "### Table 2. Statistics from the interruption-count algorithm"
   ]
  },
  {
   "cell_type": "code",
   "execution_count": null,
   "id": "95727071",
   "metadata": {},
   "outputs": [],
   "source": [
    "# Display summary statistics for PPI count\n",
    "ppi_count_df.describe()"
   ]
  },
  {
   "cell_type": "code",
   "execution_count": null,
   "id": "40d18a60",
   "metadata": {},
   "outputs": [],
   "source": [
    "# Display summary statistics for LUSO and interruptive episode count\n",
    "luso_epcount.describe()"
   ]
  },
  {
   "cell_type": "code",
   "execution_count": null,
   "id": "993df857",
   "metadata": {},
   "outputs": [],
   "source": [
    "# Get frequency and percentage of number of PPIs in an interruptuive episode\n",
    "luso_epcount['ppis_in_episode'] = luso_epcount['GROUPED_TIMES'].apply(lambda x: [len(sublist) for sublist in x])\n",
    "combined_values = [value for sublist in luso_epcount['ppis_in_episode'] for value in sublist]\n",
    "value_counts = Counter(combined_values)\n",
    "value_counts_dict = dict(value_counts)\n",
    "\n",
    "# Create dataframe\n",
    "value_counts_df = pd.DataFrame(value_counts_dict.items(), columns=['PPIs in an Episode', 'Frequency'])\n",
    "value_counts_df = value_counts_df.sort_values(by='PPIs in an Episode', ascending=True)\n",
    "value_counts_df = value_counts_df.reset_index(drop=True)\n",
    "\n",
    "# Add percentage column\n",
    "total_count = value_counts_df['Frequency'].sum()\n",
    "value_counts_df['Percentage'] = (value_counts_df['Frequency'] / total_count) * 100\n",
    "value_counts_df['Percentage'] = value_counts_df['Percentage'].apply(lambda x: '{:.2f}%'.format(x))\n",
    "\n",
    "value_counts_df"
   ]
  },
  {
   "cell_type": "markdown",
   "id": "81ac7346",
   "metadata": {},
   "source": [
    "### Figure 1: Number of PPIs by type"
   ]
  },
  {
   "cell_type": "code",
   "execution_count": null,
   "id": "81d0b280",
   "metadata": {},
   "outputs": [],
   "source": [
    "ppi_df['PPI_TYPE'] = ppi_df['PPI_TYPE'].replace({'Off Unit': 'Intra-Unit Transfer', 'On Unit': 'Intra-Unit Transfer'})\n",
    "value_counts_normalized = ppi_df['PPI_TYPE'].value_counts(normalize=True)\n",
    "formatted_percentages = value_counts_normalized.map(lambda x: '{:.1f}'.format(x * 100))\n",
    "formatted_percentages"
   ]
  },
  {
   "cell_type": "code",
   "execution_count": null,
   "id": "8b1febc4",
   "metadata": {},
   "outputs": [],
   "source": [
    "# Calculate value counts with normalization\n",
    "value_counts_normalized = ppi_df['PPI_TYPE'].value_counts(normalize=True)\n",
    "\n",
    "# Format the percentages\n",
    "formatted_percentages = value_counts_normalized.map(lambda x: '{:.1f}'.format(x * 100))\n",
    "\n",
    "# Create a DataFrame \n",
    "df_formatted_percentages = pd.DataFrame({'PPI_TYPE': formatted_percentages.index, 'Percentage': formatted_percentages.values})\n",
    "df_formatted_percentages.to_csv('figure1data.csv')"
   ]
  },
  {
   "cell_type": "markdown",
   "id": "1e10b9b7",
   "metadata": {},
   "source": [
    "### Figure 2: Interruptive Episode Count & LUSO Distributions"
   ]
  },
  {
   "cell_type": "code",
   "execution_count": null,
   "id": "e5068e31",
   "metadata": {},
   "outputs": [],
   "source": [
    "luso_epcount['LUSO_hours'] = 'Unknown'\n",
    "luso_epcount.loc[luso_epcount['LUSO_RANGE'] == '0-59', 'LUSO_hours'] = '0:00-0:59'\n",
    "luso_epcount.loc[luso_epcount['LUSO_RANGE'] == '60-119', 'LUSO_hours'] = '1:00-1:59'\n",
    "luso_epcount.loc[luso_epcount['LUSO_RANGE'] == '120-179', 'LUSO_hours'] = '2:00-2:59'\n",
    "luso_epcount.loc[luso_epcount['LUSO_RANGE'] == '180-239', 'LUSO_hours'] = '3:00-3:59'\n",
    "luso_epcount.loc[luso_epcount['LUSO_RANGE'] == '240-299', 'LUSO_hours'] = '4:00-4:59'\n",
    "luso_epcount.loc[luso_epcount['LUSO_RANGE'] == '300-359', 'LUSO_hours'] = '5:00-5:59'\n",
    "luso_epcount.loc[luso_epcount['LUSO_RANGE'] == '360-419', 'LUSO_hours'] = '6:00-6:59'\n",
    "luso_epcount.loc[luso_epcount['LUSO_RANGE'] == '420-420', 'LUSO_hours'] = '7:00'\n",
    "luso_epcount"
   ]
  },
  {
   "cell_type": "code",
   "execution_count": null,
   "id": "b4362b1d",
   "metadata": {},
   "outputs": [],
   "source": [
    "df = luso_epcount['LUSO_hours'].value_counts()\n",
    "df2 = pd.DataFrame({'Range': df.index, 'Count': df.values})\n",
    "\n",
    "# Extract numerical values from the strings\n",
    "df2['Numerical Value'] = df2['Range'].str.split('-').str[0].str.split(':').str[0].astype(int)\n",
    "\n",
    "# Sort the DataFrame in ascending order based on the numerical value\n",
    "df_sorted = df2.sort_values(by='Numerical Value')\n",
    "df_sorted.drop(columns=['Numerical Value'], inplace=True)\n",
    "df_sorted.to_csv('figure2luso.csv')"
   ]
  },
  {
   "cell_type": "code",
   "execution_count": null,
   "id": "9ac6a631",
   "metadata": {},
   "outputs": [],
   "source": [
    "df = luso_epcount['NUM_EPISODES'].value_counts()\n",
    "\n",
    "epcount = pd.DataFrame({'Range': df.index, 'Count': df.values})\n",
    "epcount"
   ]
  },
  {
   "cell_type": "markdown",
   "id": "de4e580d",
   "metadata": {},
   "source": [
    "### Interruptive Episode and LUSO Duration Analysis"
   ]
  },
  {
   "cell_type": "code",
   "execution_count": null,
   "id": "a3a55b93",
   "metadata": {},
   "outputs": [],
   "source": [
    "episode_durations.describe()"
   ]
  },
  {
   "cell_type": "code",
   "execution_count": null,
   "id": "ffe537c2",
   "metadata": {},
   "outputs": [],
   "source": [
    "episode_durations.value_counts()"
   ]
  },
  {
   "cell_type": "code",
   "execution_count": null,
   "id": "b5ff7d15",
   "metadata": {},
   "outputs": [],
   "source": [
    "# Create CDF of interrutpive episode duration\n",
    "sorted_data = episode_durations['Interruptive Episode Duration'].sort_values()\n",
    "cumulative = sorted_data.cumsum() / sorted_data.sum()\n",
    "\n",
    "plt.plot(sorted_data, cumulative, marker='o', linestyle='-', color='blue')\n",
    "plt.xlabel('Duration')\n",
    "plt.ylabel('Frequency')\n",
    "plt.title('Distribution of Interruptive Episode Duration')\n",
    "plt.show()"
   ]
  },
  {
   "cell_type": "code",
   "execution_count": null,
   "id": "c11e8d78",
   "metadata": {},
   "outputs": [],
   "source": [
    "# Splitting LUSO into bins\n",
    "bin_edges = [0, 60, 120, 180, 240, 300, 360, 420, 421]\n",
    "bin_labels = [f'{bin_edges[i]}-{(bin_edges[i+1])-1}' for i in range(len(bin_edges) - 1)]\n",
    "luso_epcount['LUSO_RANGE'] = pd.cut(luso_epcount['LUSO'], bins=bin_edges, labels=bin_labels, right=False)\n",
    "luso_epcount"
   ]
  },
  {
   "cell_type": "code",
   "execution_count": null,
   "id": "a8d83e11",
   "metadata": {},
   "outputs": [],
   "source": [
    "luso_epcount['LUSO_RANGE'].value_counts()"
   ]
  }
 ],
 "metadata": {
  "kernelspec": {
   "display_name": "sleep_kernel",
   "language": "python",
   "name": "sleep_disturbances"
  },
  "language_info": {
   "codemirror_mode": {
    "name": "ipython",
    "version": 3
   },
   "file_extension": ".py",
   "mimetype": "text/x-python",
   "name": "python",
   "nbconvert_exporter": "python",
   "pygments_lexer": "ipython3",
   "version": "3.7.12"
  }
 },
 "nbformat": 4,
 "nbformat_minor": 5
}
